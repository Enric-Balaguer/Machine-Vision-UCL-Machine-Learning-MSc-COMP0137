{
 "cells": [
  {
   "cell_type": "markdown",
   "metadata": {},
   "source": [
    "Edited by Mohamed Sayed on 27/11/2019. All errors are now my own.\n",
    "# Practical 7 - Part 1A\n",
    "\n",
    "The aim of part 1A is to calculate the homography that best maps two sets of points to one another.  We will (eventually) use this for creating panoramas, and for calculating the 3D pose of planes.  You should use this\n",
    "template for your code and fill in the missing sections marked \"TO DO\"\n"
   ]
  },
  {
   "cell_type": "markdown",
   "metadata": {},
   "source": [
    "Enric Balaguer Rodon, \n",
    "Student Number: 23058643"
   ]
  },
  {
   "cell_type": "markdown",
   "metadata": {},
   "source": [
    "## Import libraries "
   ]
  },
  {
   "cell_type": "code",
   "execution_count": 73,
   "metadata": {},
   "outputs": [],
   "source": [
    "%matplotlib inline\n",
    "import os \n",
    "import numpy as np\n",
    "import matplotlib.pyplot as plt\n",
    "import scipy.io as sio"
   ]
  },
  {
   "cell_type": "markdown",
   "metadata": {},
   "source": [
    "## Test case formulation\n",
    "\n",
    "To start with, let's set up some start points `pts1Cart` and a homography, `H`, that we can use to generate target points `pts2Cart`. We'll also add some noise to `pts2Cart` to simulate a real world environment. The challenge is to find the same homography, or as close as noise allows, given `pts1Cart` and `pts2Cart`.\n",
    "\n",
    "__NOTE:__ It may be helpful to set `noiseLevel` to 0 to start with so that you can check if your solution is spot on while debugging. Make sure you set it back to some value, here we use 4, when you're confident your solution works."
   ]
  },
  {
   "cell_type": "code",
   "execution_count": 74,
   "metadata": {},
   "outputs": [],
   "source": [
    "# Define a set of two-dimensional Cartesian points\n",
    "pts1Cart = np.array([[240.5000, 16.8351, 33.5890, 164.2696, 149.1911],\n",
    "                    [248.8770, 193.5890, 251.3901, 168.4581, 228.7723]])\n",
    "\n",
    "# Convert points into homogeneous representation\n",
    "pts1Hom = np.concatenate((pts1Cart, np.ones((1,pts1Cart.shape[1]))), axis=0)\n",
    "\n",
    "# Define a homography\n",
    "H = np.array([[0.6, 0.7, -100.],\n",
    "              [1.0, 0.6, 50.],\n",
    "              [0.001, 0.002, 1.0]])\n",
    "\n",
    "# Apply a homography to the points\n",
    "pts2Hom = np.matmul(H,pts1Hom)\n",
    "\n",
    "# Convert back to Cartesian coordinates\n",
    "pts2Cart = pts2Hom[0:2,:] / np.tile([pts2Hom[2,:]],(2,1))\n",
    "\n",
    "# Add a small amount of noise. Set this to zero to begin with to see if your homography solution is spot on.\n",
    "noiseLevel = 4.0\n",
    "pts2Cart = pts2Cart + np.random.normal(0, noiseLevel, pts2Cart.shape)"
   ]
  },
  {
   "cell_type": "markdown",
   "metadata": {},
   "source": [
    "## Plotting\n",
    "\n",
    "Let's plot the the first original set of points, `pts1Cart`, in blue and the second set of points, `pts2Cart`, in red. "
   ]
  },
  {
   "cell_type": "code",
   "execution_count": 75,
   "metadata": {},
   "outputs": [
    {
     "data": {
      "image/png": "[encoded data removed]",
      "text/plain": [
       "<Figure size 640x480 with 1 Axes>"
      ]
     },
     "metadata": {},
     "output_type": "display_data"
    }
   ],
   "source": [
    "# Plot a green line between pairs of start points (blue) and transformed points (red).|\n",
    "nPoint = pts1Cart.shape[1]\n",
    "for cPoint in range(0, nPoint):\n",
    "    plt.plot([pts1Cart[0,cPoint], pts2Cart[0,cPoint]], [pts1Cart[1,cPoint], pts2Cart[1,cPoint]],'g-')\n",
    "    plt.plot(pts1Cart[0,cPoint],pts1Cart[1,cPoint],'b.', pts2Cart[0,cPoint],pts2Cart[1,cPoint],'r.') \n",
    "\n",
    "plt.show()"
   ]
  },
  {
   "cell_type": "markdown",
   "metadata": {},
   "source": [
    "Difference between pairs of original points, blue, and transformed points, red."
   ]
  },
  {
   "cell_type": "markdown",
   "metadata": {},
   "source": [
    "## Homography estimation time!\n",
    "\n",
    "We've formulated our test example; now our goal is to estimate the homography that maps the first set of points to the second set of points.\n",
    "\n",
    "### ****TO DO****: Fill in the details of these routines (solveAXEqualsZero and calcBestHomography). "
   ]
  },
  {
   "cell_type": "code",
   "execution_count": 76,
   "metadata": {},
   "outputs": [],
   "source": [
    "def solveAXEqualsZero(A):\n",
    "    # TO DO: Write this routine - it should solve Ah = 0. You can do this using SVD. Consult your notes! \n",
    "    # Hint: SVD will be involved. \n",
    "    U, L, V_transposed = np.linalg.svd(A) #A = ULV^T\n",
    "    #Now acquire last column of V, and that's h\n",
    "    last_column_V = np.transpose(V_transposed)[:,-1]\n",
    "    h = last_column_V\n",
    "    return h"
   ]
  },
  {
   "cell_type": "code",
   "execution_count": 77,
   "metadata": {},
   "outputs": [],
   "source": [
    "def calcBestHomography(pts1Cart, pts2Cart):\n",
    "    \n",
    "    # This function should apply the direct linear transform (DLT) algorithm to calculate the best \n",
    "    # homography that maps the cartesian points in pts1Cart to their corresonding matching cartesian points \n",
    "    # in pts2Cart.\n",
    "    \n",
    "    # This function calls solveAXEqualsZero. Make sure you are wary of how to reshape h into a 3 by 3 matrix. \n",
    "\n",
    "    # Get number of images\n",
    "    N = pts1Cart.shape[1]\n",
    "\n",
    "    # Get homogenous representation of real world points\n",
    "    real_world_homogenous = np.concatenate((pts1Cart, np.ones((1,pts1Cart.shape[1]))), axis=0)\n",
    "    \n",
    "    screen_images = pts2Cart\n",
    "    #Construct A\n",
    "    #A = np.zeros(N*2,9)\n",
    "    A = []\n",
    "    for n in range(N):\n",
    "        rwh = real_world_homogenous[:,n]\n",
    "        sh = screen_images[:,n]\n",
    "\n",
    "        #Get first row to add per datapoint from the real world\n",
    "        dummy_list_1 = [0, -1, sh[1]]\n",
    "        dummy_list_2 = [1, 0, -sh[0]]\n",
    "\n",
    "        row1 = []\n",
    "        row2 = []\n",
    "        for i in range(len(dummy_list_1)):\n",
    "            for j in range(len(rwh)):\n",
    "                row1.append(dummy_list_1[i] * rwh[j])\n",
    "                row2.append(dummy_list_2[i] * rwh[j])\n",
    "\n",
    "        A.append(row1)\n",
    "        A.append(row2)\n",
    "    \n",
    "    A = np.array(A)\n",
    "    \n",
    "    # We now solve for h as defined above\n",
    "    H = solveAXEqualsZero(A)\n",
    "\n",
    "    # Reshape as desired\n",
    "    H = H.reshape(3,3)\n",
    "\n",
    "    # TO DO: replace this:\n",
    "    # TO DO: \n",
    "    # First convert points into homogeneous representation\n",
    "    # Hint: we've done this before  in the skeleton code we provide.\n",
    "    \n",
    "    # Then construct the matrix A, size (n_points * 2, 9)\n",
    "    # Consult the notes!\n",
    "    \n",
    "    # Solve Ah = 0 using solveAXEqualsZero and get h.\n",
    "    \n",
    "    # Reshape h into the matrix H, values of h go first into rows of H\n",
    "\n",
    "    \n",
    "    return H"
   ]
  },
  {
   "cell_type": "markdown",
   "metadata": {},
   "source": [
    "## Test time!\n",
    "\n",
    "Time to put it all together. \n",
    "\n",
    "Now we need a way of measuring how well our mapping does. To do this we will apply our estimated mapping, `HEst`, to `pts1Cart` and obtain estimated points `pts2EstCart`. We will compare `pts2EstCart` and `pts2Cart` using a sum of squared difference to see how well our solution at least approximates the transformed noisy points `pts2Cart`.\n",
    "\n",
    "Red points on the plot are the noisy points we observe, `pts2Cart`, and the magenta points are the transformed points, `pts2EstCart`, that we get when we apply our estimated homography on `pts1Cart`. The black lines represent the error between both points; if you've set `noiseLevel` to 0, then `sqDiff` should be 0 and the points should overlap perfectly."
   ]
  },
  {
   "cell_type": "code",
   "execution_count": 78,
   "metadata": {},
   "outputs": [
    {
     "name": "stdout",
     "output_type": "stream",
     "text": [
      "Sqaured difference between pts2Cart and pts2EstCart is: 15.42\n"
     ]
    },
    {
     "data": {
      "image/png": "[encoded data removed]",
      "text/plain": [
       "<Figure size 640x480 with 1 Axes>"
      ]
     },
     "metadata": {},
     "output_type": "display_data"
    }
   ],
   "source": [
    "# Replace this with a call to the function calcBestHomography. You'll need to figure out which way around the \n",
    "# points go in the function, i.e. which direction this homography transforms points from and to. The ordering \n",
    "# is dead simple for now but acts as a simple exercise for what comes in later parts of this practical.\n",
    "HEst = calcBestHomography(pts1Cart, pts2Cart)\n",
    "\n",
    "# Apply estimated homography to points\n",
    "pts2EstHom = np.matmul(HEst,pts1Hom)\n",
    "\n",
    "# Convert back to Cartesian coordinates\n",
    "pts2EstCart = pts2EstHom[0:2,:] / np.tile([pts2EstHom[2,:]],(2,1))\n",
    "\n",
    "# Calculate the mean squared distance from actual points\n",
    "sqDiff = np.mean(sum((pts2Cart - pts2EstCart)**2))\n",
    "\n",
    "print(\"Sqaured difference between pts2Cart and pts2EstCart is: %.2f\" % sqDiff)\n",
    "\n",
    "# Draw figure with points before and after applying the estimated homography\n",
    "nPoint = pts1Cart.shape[1]\n",
    "\n",
    "# Plot a black line between pairs of actual points (red) and estimated points (magenta)\n",
    "for cPoint in range(0, nPoint):\n",
    "    plt.plot([pts2Cart[0,cPoint], pts2EstCart[0,cPoint]], [pts2Cart[1,cPoint], pts2EstCart[1,cPoint]],'k-')\n",
    "    plt.plot(pts2Cart[0,cPoint],pts2Cart[1,cPoint],'r.',pts2EstCart[0,cPoint],pts2EstCart[1,cPoint],'m.') \n",
    "\n",
    "plt.show()"
   ]
  },
  {
   "cell_type": "markdown",
   "metadata": {},
   "source": [
    "The above plot displays the difference between pairs of original points, red, and estimated points, purple, the black line is the distance between them. The results displayed use noiseLevel = 4.0. When noiseLevel = 0, the original and estimated points are the same. Furthermore, due to the noiseLevel, one might get an \"unlucky run\" and acquire really poor results when calculating the desired homography."
   ]
  },
  {
   "cell_type": "markdown",
   "metadata": {},
   "source": [
    "## Other things **** TO DO ****\n",
    "\n",
    "1: Convince yourself that the homography is ambiguous up to scale (by\n",
    "multiplying it by a constant factor and showing it does the same thing).\n",
    "Can you see why this is the case mathematically?\n",
    "\n",
    "2: Show empirically that your homography routine can EXACTLY map any four points to any\n",
    "other four points."
   ]
  },
  {
   "cell_type": "markdown",
   "metadata": {},
   "source": [
    "### Answer 1: \n",
    "Scaling the homography would be: \\\n",
    "\\\n",
    "$c\\lambda\\begin{bmatrix} x_i \\\\ y_i \\\\ 1 \\end{bmatrix} = \\begin{bmatrix} \\phi_{11} & \\phi_{12} & \\phi_{13} \\\\ \\phi_{21} & \\phi_{22} & \\phi_{23} \\\\ \\phi_{31} & \\phi_{32} & \\phi_{33} \\end{bmatrix} \\begin{bmatrix} u_i \\\\ v_i \\\\ 1 \\end{bmatrix}$\n",
    "Which is equivalent to: $\\lambda\\begin{bmatrix} x_i \\\\ y_i \\\\ 1 \\end{bmatrix} = \\frac{1}{c} \\begin{bmatrix} \\phi_{11} & \\phi_{12} & \\phi_{13} \\\\ \\phi_{21} & \\phi_{22} & \\phi_{23} \\\\ \\phi_{31} & \\phi_{32} & \\phi_{33} \\end{bmatrix} \\begin{bmatrix} u_i \\\\ v_i \\\\ 1 \\end{bmatrix}$\n",
    "\\\n",
    "\\\n",
    "Thus, when formulating the cross product: $\\tilde{\\textbf{x}} \\times \\frac{1}{c} \\Phi \\tilde{\\textbf{w}} = \\textbf{0}$.\n",
    "\\\n",
    "\\\n",
    "We can use cross product properties to re-write as: $\\frac{1}{c}\\left(\\tilde{\\textbf{x}} \\times \\Phi \\tilde{\\textbf{w}}\\right) = \\textbf{0}$\n",
    "\\\n",
    "\\\n",
    "Allowing us to discard such scaling for $c \\in \\mathbb{R} $ except $c = 0$. Thus $c = 0$ is not an allowed scaling."
   ]
  },
  {
   "cell_type": "markdown",
   "metadata": {},
   "source": [
    "### Answer 2:\n",
    "We have 8 unknowns in our homography matrix, as the last entry is 1. Thus, if we have four original and transformed points we can then define 8 equations from them, one for each unknown, Allowing us to solve for each."
   ]
  }
 ],
 "metadata": {
  "kernelspec": {
   "display_name": "Python 3",
   "language": "python",
   "name": "python3"
  },
  "language_info": {
   "codemirror_mode": {
    "name": "ipython",
    "version": 3
   },
   "file_extension": ".py",
   "mimetype": "text/x-python",
   "name": "python",
   "nbconvert_exporter": "python",
   "pygments_lexer": "ipython3",
   "version": "3.11.5"
  }
 },
 "nbformat": 4,
 "nbformat_minor": 1
}
