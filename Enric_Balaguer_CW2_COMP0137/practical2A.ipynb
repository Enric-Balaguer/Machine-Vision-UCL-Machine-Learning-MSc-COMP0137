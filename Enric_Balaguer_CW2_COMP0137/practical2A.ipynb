{
 "cells": [
  {
   "cell_type": "markdown",
   "metadata": {},
   "source": [
    "# Practical 7 - Part 2A\n",
    "This second half of the lab explores the geometry of a single camera. In 2B the goal is to use a set of correspondance points to estimate a transformation matrix from a plane's 3D space to camera space and use that matrix to project some other points into camera space.\n",
    "\n",
    "In this section, we'll work on building two components that we need for 2B, a method to estimate that transformation and a method that can project points into camera image space.\n",
    "\n",
    "First we'll tackle the projection method, `projectiveCamera`. We want to find the image space coordinates, `XImCart`, of a set of 3D world coordinates, `XCart`, given a camera intrinsics matrix `K` and an extrinsics matrix `T`.\n",
    "\n",
    "The second component is a method to estimate a Eucledian transformation, `TEst`, that takes us from a plane's 3D coordinate space to 3D camera space by utilizing a given set of points in camera image space, `XImCart`, and a set of corresponding points in world space, `XCart`. Essentially we want to compute the extrinsics matrix we can use in `projectiveCamera`.\n",
    "\n",
    "Estimating the camera pose will involve calculating a homography, so you'll need to copy over your functions from part 1A/1B in the space provided."
   ]
  },
  {
   "cell_type": "markdown",
   "metadata": {},
   "source": [
    "Enric Balaguer Rodon, \n",
    "Student Number: 23058643"
   ]
  },
  {
   "cell_type": "markdown",
   "metadata": {},
   "source": [
    "## Import libraries "
   ]
  },
  {
   "cell_type": "code",
   "execution_count": 57,
   "metadata": {},
   "outputs": [],
   "source": [
    "%matplotlib inline\n",
    "import os \n",
    "import numpy as np\n",
    "import matplotlib.pyplot as plt\n",
    "import scipy.io as sio"
   ]
  },
  {
   "cell_type": "code",
   "execution_count": 58,
   "metadata": {},
   "outputs": [],
   "source": [
    "def projectiveCamera(K,T,XCart):\n",
    "    ##TODO\n",
    "    # The goal of this function is to project points in XCart through projective camera\n",
    "    # defined by intrinsic matrix K and extrinsic matrix T. In essence, this function takes a set of points \n",
    "    # in 3D world space, XCart, and projects them into camera image space by applying the extrinsic matrix T \n",
    "    # and then applying the intrinsic matrix K.\n",
    "    # There are three steps.\n",
    "    # 1) Move from world space to camera space. \n",
    "    #            camera space points = extrinsics T * world space points    \n",
    "    # 2) Applying the intrinsics matrix to the camera space points after normalizing\n",
    "    #           homogeneous image space points = K * normalized camera space points\n",
    "    # 3) Move to image space cartesian points from image space homogeneous points, involves a \n",
    "    # normalization using the third row.\n",
    "    \n",
    "    # TO DO: Replace this\n",
    "    real_world_cartesian = XCart\n",
    "\n",
    "    # TO DO: Convert Cartesian 3d points XCart to homogeneous coordinates XHom\n",
    "    real_world_homogenous = np.vstack((real_world_cartesian, np.ones(real_world_cartesian.shape[1])))\n",
    "\n",
    "    # TO DO: Apply extrinsic matrix to XHom, to move to frame of reference of camera\n",
    "    camera_space_homogenous = np.matmul(T, real_world_homogenous)\n",
    "    \n",
    "    # TO DO: Project points into normalized camera coordinates xCamHom (remove 4th row)\n",
    "    camera_space_homogenous_normalised = np.delete(camera_space_homogenous, -1, axis=0)\n",
    "\n",
    "    # TO DO: Move points to image coordinates xImHom by applying intrinsic matrix\n",
    "    image_space_homogenous = np.matmul(K, camera_space_homogenous_normalised)\n",
    "\n",
    "    # TO DO: Convert points back to Cartesian coordinates xImCart\n",
    "    image_space_cartesian = image_space_homogenous[0:2,:]/np.tile(image_space_homogenous[2,:],(2,1))\n",
    "\n",
    "    return image_space_cartesian\n"
   ]
  },
  {
   "cell_type": "markdown",
   "metadata": {},
   "source": [
    "## Camera Projection\n",
    "\n",
    "First we'll write up the function that can take us from 3D world space, `XCart`, to camera image space, `XImCart`, using an extrinsics matrix `T` and an intrinsics matrix `K` that are provided. The previous block houses this function.\n",
    "\n",
    "The result here is the cartesian image space point coordinates, `XImCart`, of the 3D points `XCart`. If `XCart` represents a box in the world then we now know where the box's vertices would land in image space.\n",
    "\n",
    "To verify that your solution is correct please compare your image space points to those in the comment.\n",
    "\n",
    "Once they match, move on to the next bit - estimating a transformation! "
   ]
  },
  {
   "cell_type": "code",
   "execution_count": 59,
   "metadata": {},
   "outputs": [
    {
     "name": "stdout",
     "output_type": "stream",
     "text": [
      "[[267.417 230.95  531.425 482.36  378.775]\n",
      " [396.268 288.114 237.834 358.399 329.441]]\n"
     ]
    }
   ],
   "source": [
    "# We assume that the camera intrinsics matrix K is known and has values:\n",
    "K = np.array([[640, 0, 320],\n",
    "             [0, 640, 240],\n",
    "             [0, 0, 1]])\n",
    "\n",
    "# We will assume an object co-ordinate system with the Z-axis pointing upwards and the origin\n",
    "# in the centre of the plane. There are five known points on the plane with coordinates (mm):\n",
    "XCart = np.array([[-100, -100,  100,  100, 0],\n",
    "                  [-100,  100,  100, -100, 0],\n",
    "                  [   0,    0,    0,    0, 0]])\n",
    "\n",
    "# We assume the correct transformation from the plane co-ordinate system to the\n",
    "# camera co-ordinate system (extrinsic matrix) is:\n",
    "T = np.array([[0.9851,  -0.0492,  0.1619,  46.00],\n",
    "             [-0.1623,  -0.5520,  0.8181,  70.00],\n",
    "             [0.0490,  -0.8324, -0.5518,  500.89],\n",
    "             [0,        0,       0,       1]])\n",
    "# T houses a rotation matrix and a translation matrix. The last row is for homogeneous point calculation.\n",
    "\n",
    "\n",
    "# TO DO: Use the general pin-hole projective camera model discussed in the lectures to estimate \n",
    "# where the four points on the plane will appear in the image.  Fill in the\n",
    "# details of the function \"projectiveCamera\"\n",
    "XImCart = projectiveCamera(K,T,XCart)\n",
    "\n",
    "print(XImCart)\n",
    "# Should be around:\n",
    "# [267.4170882  230.95045427 531.42492013 482.36049098 378.77537982]\n",
    "# [396.26814909 288.11435494 237.83410247 358.39940241 329.44079538]"
   ]
  },
  {
   "cell_type": "code",
   "execution_count": 60,
   "metadata": {},
   "outputs": [
    {
     "name": "stdout",
     "output_type": "stream",
     "text": [
      "T.shape = (4, 4)\n",
      "K.shape = (3, 3)\n",
      "real_world_cartesian.shape = (3, 5)\n"
     ]
    }
   ],
   "source": [
    "print(\"T.shape =\", T.shape)\n",
    "print(\"K.shape =\", K.shape)\n",
    "print(\"real_world_cartesian.shape =\", XCart.shape)"
   ]
  },
  {
   "cell_type": "markdown",
   "metadata": {},
   "source": [
    "### You've implemented both of these functions in 1A and 1B already, so feel free to copy them in here. You'll need them for this next part."
   ]
  },
  {
   "cell_type": "code",
   "execution_count": 61,
   "metadata": {},
   "outputs": [],
   "source": [
    "def solveAXEqualsZero(A):\n",
    "    # TO DO: Write this routine - it should solve Ah = 0. You can do this using SVD. Consult your notes! \n",
    "    # Hint: SVD will be involved. \n",
    "    U, L, V_transposed = np.linalg.svd(A) #A = ULV^T\n",
    "    #Now acquire last column of V, and that's h\n",
    "    last_column_V = np.transpose(V_transposed)[:,-1]\n",
    "    h = last_column_V\n",
    "    return h"
   ]
  },
  {
   "cell_type": "code",
   "execution_count": 62,
   "metadata": {},
   "outputs": [],
   "source": [
    "def calcBestHomography(pts1Cart, pts2Cart):\n",
    "    \n",
    "    # This function should apply the direct linear transform (DLT) algorithm to calculate the best \n",
    "    # homography that maps the cartesian points in pts1Cart to their corresonding matching cartesian points \n",
    "    # in pts2Cart.\n",
    "    \n",
    "    # This function calls solveAXEqualsZero. Make sure you are wary of how to reshape h into a 3 by 3 matrix. \n",
    "\n",
    "    # Get number of images\n",
    "    N = pts1Cart.shape[1]\n",
    "\n",
    "    # Get homogenous representation of real world points\n",
    "    real_world_homogenous = np.concatenate((pts1Cart, np.ones((1,pts1Cart.shape[1]))), axis=0)\n",
    "    screen_images = pts2Cart\n",
    "    #Construct A\n",
    "    #A = np.zeros(N*2,9)\n",
    "    A = []\n",
    "    for n in range(N):\n",
    "        rwh = real_world_homogenous[:,n]\n",
    "        sh = screen_images[:,n]\n",
    "\n",
    "        #Get first row to add per datapoint from the real world\n",
    "        dummy_list = [0, -1, sh[1]]\n",
    "        row1 = []\n",
    "        for variable in dummy_list:\n",
    "            for value in rwh:\n",
    "                row1.append(variable*value)\n",
    "\n",
    "        #Get second row to add per datapoint from the real world\n",
    "        dummy_list = [1, 0, -sh[0]]\n",
    "        row2 = []\n",
    "        for variable in dummy_list:\n",
    "            for value in rwh:\n",
    "                row2.append(variable*value)\n",
    "\n",
    "        A.append(row1)\n",
    "        A.append(row2)\n",
    "    \n",
    "    A = np.array(A)\n",
    "    \n",
    "    # We now solve for h as defined above\n",
    "    H = solveAXEqualsZero(A)\n",
    "\n",
    "    # Reshape as desired\n",
    "    H = H.reshape(3,3)\n",
    "\n",
    "    # TO DO: replace this:\n",
    "    # TO DO: \n",
    "    # First convert points into homogeneous representation\n",
    "    # Hint: we've done this before  in the skeleton code we provide.\n",
    "    \n",
    "    # Then construct the matrix A, size (n_points * 2, 9)\n",
    "    # Consult the notes!\n",
    "    \n",
    "    # Solve Ah = 0 using solveAXEqualsZero and get h.\n",
    "    \n",
    "    # Reshape h into the matrix H, values of h go first into rows of H\n",
    "\n",
    "    \n",
    "    return H"
   ]
  },
  {
   "cell_type": "code",
   "execution_count": 63,
   "metadata": {},
   "outputs": [],
   "source": [
    "# Read the next cell first for context!\n",
    "\n",
    "def estimatePlanePose(XImCart,XCart,K):\n",
    "    # The goal of this function is to estimate the pose of a plane relative to camera (extrinsic matrix)\n",
    "    # given points in image space xImCart, points in 3D world space XCart, and an intrinsics matrix K.\n",
    "    \n",
    "    # TO DO: replace this\n",
    "\n",
    "    real_world_cartesian = XCart\n",
    "    image_space_cartesian = XImCart\n",
    "    # TO DO: Convert Cartesian image points XImCart to homogeneous representation XImHom\n",
    "    image_space_homogenous = np.vstack((image_space_cartesian, np.ones(image_space_cartesian.shape[1])))\n",
    "\n",
    "    # TO DO: Convert image co-ordinates XImHom to normalized camera coordinates XCamHom    \n",
    "    camera_space_homogenous_normalised = np.matmul(np.linalg.pinv(K), image_space_homogenous)\n",
    "\n",
    "    # TO DO: Estimate homography H mapping homogeneous (x,y) coordinates of positions\n",
    "    # in real world to XCamHom (convert XCamHom to Cartesian, calculate the homography) -\n",
    "    # use the routine you wrote for Practical 1B\n",
    "    camera_space_cartesian = camera_space_homogenous_normalised[0:2,:]/np.tile(camera_space_homogenous_normalised[2,:],(2,1))\n",
    "    real_world_cartesian = np.delete(real_world_cartesian, 2, 0)\n",
    "    homography = calcBestHomography(real_world_cartesian, camera_space_cartesian)    \n",
    "          \n",
    "    # TO DO: Estimate first two columns of rotation matrix R from the first two\n",
    "    # columns of H using the SVD. NOTE: You do not need to transpose v from linalg.svd\n",
    "\n",
    "    #I first need to pre-multiply the estimated homography by the inverse of the intrinsic matrix, as indicated in the book\n",
    "    #WRONG! I already did before. Proceed.\n",
    "\n",
    "    #Acquire first two columns and compute the SVD of such\n",
    "    homography_without_last_column = np.delete(homography, -1, axis=1)\n",
    "    U, L, V_transposed = np.linalg.svd(homography_without_last_column)\n",
    "\n",
    "    #Acquire first two columns of rotation matrix:\n",
    "    rotation_first_two_columns = U @ np.array([[1,0],[0,1],[0,0]]) @ V_transposed\n",
    "\n",
    "    # TO DO: Estimate the third column of the rotation matrix by taking the cross\n",
    "    # product of the first two columns\n",
    "    rotation_third_column = np.cross(rotation_first_two_columns[:,0], rotation_first_two_columns[:,1])\n",
    "        \n",
    "    # TO DO: Check that the determinant of the rotation matrix is positive - if\n",
    "    # not then multiply last column by -1.\n",
    "\n",
    "    #First assimilate the full rotation matrix\n",
    "    rotation_matrix = np.hstack((rotation_first_two_columns, rotation_third_column.reshape(-1,1)))\n",
    "\n",
    "    #Now calculate the determinant and act accordingly\n",
    "    determinant_rotation_matrix = np.linalg.det(rotation_matrix)\n",
    "    if determinant_rotation_matrix <= 0:\n",
    "        #Multiply last column by -1\n",
    "        rotation_matrix[:,-1] *= -1\n",
    "    \n",
    "    # TO DO: Estimate the translation t by finding the appropriate scaling factor k\n",
    "    # and applying it to the third colulmn of H\n",
    "    scaling_factor = np.sum(homography_without_last_column / rotation_first_two_columns)/6\n",
    "    translation = homography[:,-1]/scaling_factor\n",
    "    \n",
    "    # TO DO: Check whether t_z is negative - if it is then multiply t by -1 and\n",
    "    # the first two columns of R by -1.\n",
    "    if translation[-1] < 0:\n",
    "        translation *= -1\n",
    "        rotation_matrix[:,0:2] *= -1\n",
    " \n",
    "    # TO DO: Assemble transformation into matrix form\n",
    "    transformation_matrix = np.vstack((np.hstack((rotation_matrix, translation.reshape(-1,1))), np.array([0., 0., 0., 1.])))\n",
    "    \n",
    "    return transformation_matrix"
   ]
  },
  {
   "cell_type": "markdown",
   "metadata": {},
   "source": [
    "## Now the juicy bit: Estimating an Extrinsics Matrix, T\n",
    "\n",
    "The problem: We are given an instrinsics matrix `K`, a set of 3D world points `XCart`, and a set of corresponding image space coordinates in `XImCart`. `K` and `XCart` have already been defined a few cells back and you've calculated `XImCart` by virtue of the exercise you've completed with camera projection. What we don't have is an extrinsics matrix, `T`. We need to estimate this and you'll need to fill in `estimatePlanePose` and return `TEst`.\n",
    "\n",
    "Again you can start by negating the noise we add to XImCart to make sure you're on the right track."
   ]
  },
  {
   "cell_type": "code",
   "execution_count": 65,
   "metadata": {},
   "outputs": [
    {
     "name": "stdout",
     "output_type": "stream",
     "text": [
      "[[ 9.881e-01 -6.726e-02  1.382e-01  5.389e+01]\n",
      " [-1.522e-01 -5.533e-01  8.189e-01  8.277e+01]\n",
      " [ 2.138e-02 -8.302e-01 -5.570e-01  5.918e+02]\n",
      " [ 0.000e+00  0.000e+00  0.000e+00  1.000e+00]]\n",
      "\n",
      "\n",
      "[[ 9.851e-01 -4.920e-02  1.619e-01  4.600e+01]\n",
      " [-1.623e-01 -5.520e-01  8.181e-01  7.000e+01]\n",
      " [ 4.900e-02 -8.324e-01 -5.518e-01  5.009e+02]\n",
      " [ 0.000e+00  0.000e+00  0.000e+00  1.000e+00]]\n"
     ]
    }
   ],
   "source": [
    "# TO DO: Add noise (standard deviation of one pixel in each direction) to the pixel positions\n",
    "# to simulate having to find these points in a noisy image. Store the results back in xImCart\n",
    "XImCartNoisy = XImCart + np.random.normal(loc=0, scale=1, size=XImCart.shape)#add noise here\n",
    "\n",
    "# TO DO: Now we will take the image points and the known positions on the card and estimate  \n",
    "# the extrinsic matrix using the algorithm discussed in the lecture.  Fill in the details of \n",
    "# the function estimatePlanePose\n",
    "TEst = estimatePlanePose(XImCartNoisy,XCart,K)\n",
    "\n",
    "# If you have got this correct, TEst should closely resemble the groundtruth, T.\n",
    "np.set_printoptions(precision=3)\n",
    "print(TEst)\n",
    "print(\"\\n\")\n",
    "print(T)\n"
   ]
  },
  {
   "cell_type": "markdown",
   "metadata": {
    "collapsed": true
   },
   "source": [
    "Once again, above results are acquire with addition of noise. Evidently, the addition of noise has a big impact on small unknowns, such as the value in row 3 column 1. However, without the noise the estimated extrinsic matrix TEst is a really good approximation to the ground truth extrinsic matrix T."
   ]
  }
 ],
 "metadata": {
  "kernelspec": {
   "display_name": "Python 3",
   "language": "python",
   "name": "python3"
  },
  "language_info": {
   "codemirror_mode": {
    "name": "ipython",
    "version": 3
   },
   "file_extension": ".py",
   "mimetype": "text/x-python",
   "name": "python",
   "nbconvert_exporter": "python",
   "pygments_lexer": "ipython3",
   "version": "3.11.5"
  }
 },
 "nbformat": 4,
 "nbformat_minor": 1
}
